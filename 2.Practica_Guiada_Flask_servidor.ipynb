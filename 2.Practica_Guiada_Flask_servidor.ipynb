{
 "cells": [
  {
   "cell_type": "code",
   "execution_count": 3,
   "metadata": {},
   "outputs": [],
   "source": [
    "import pickle\n",
    "import numpy as np\n"
   ]
  },
  {
   "cell_type": "markdown",
   "metadata": {},
   "source": [
    "### 4. Flask : usando JSON\n",
    "\n",
    "**with**: nos permite abrir el archivo sin necesidad de abrir y cerrar, evitando errores.\n",
    "\n",
    "https://www.geeksforgeeks.org/with-statement-in-python/\n",
    "\n",
    "Recordemos estos argumentos para el **open** :\n",
    "\n",
    "    'math_model.pkl' > El archivo que contiene el modelo serializado.\n",
    "\n",
    "    'rb' > Es la forma de lectura en binario.\n",
    "\n",
    "Para deserializar un pickle, debemos mantener abierto el archivo que contiene la data en forma de lectura binaria."
   ]
  },
  {
   "cell_type": "code",
   "execution_count": 74,
   "metadata": {},
   "outputs": [
    {
     "name": "stdout",
     "output_type": "stream",
     "text": [
      "<class 'sklearn.linear_model._coordinate_descent.ElasticNetCV'>\n"
     ]
    },
    {
     "data": {
      "text/plain": [
       "ElasticNetCV(alphas=array([1.000e-03, 1.020e-01, 2.030e-01, 3.040e-01, 4.050e-01, 5.060e-01,\n",
       "       6.070e-01, 7.080e-01, 8.090e-01, 9.100e-01, 1.011e+00, 1.112e+00,\n",
       "       1.213e+00, 1.314e+00, 1.415e+00, 1.516e+00, 1.617e+00, 1.718e+00,\n",
       "       1.819e+00, 1.920e+00, 2.021e+00, 2.122e+00, 2.223e+00, 2.324e+00,\n",
       "       2.425e+00, 2.526e+00, 2.627e+00, 2.728e+00, 2.829e+00, 2.930e+00,\n",
       "       3.031e+00, 3.132e+00, 3.2...\n",
       "       8.485e+00, 8.586e+00, 8.687e+00, 8.788e+00, 8.889e+00, 8.990e+00,\n",
       "       9.091e+00, 9.192e+00, 9.293e+00, 9.394e+00, 9.495e+00, 9.596e+00,\n",
       "       9.697e+00, 9.798e+00, 9.899e+00, 1.000e+01]),\n",
       "             copy_X=True, cv=3, eps=0.001, fit_intercept=True, l1_ratio=0.5,\n",
       "             max_iter=1000, n_alphas=100, n_jobs=None, normalize=False,\n",
       "             positive=False, precompute='auto', random_state=None,\n",
       "             selection='cyclic', tol=0.0001, verbose=0)"
      ]
     },
     "execution_count": 74,
     "metadata": {},
     "output_type": "execute_result"
    }
   ],
   "source": [
    "# vamos a cargar uno de los modelos en memoria a partir de un archivo pickle\n",
    "# el archivo se mantiene abierto solo en el ambito del with, despues del bloque se cierra automaticamente.\n",
    "with open('math_model.pkl', 'rb') as f_math:\n",
    "    modelo_matematicas = pickle.load(f_math)\n",
    "\n",
    "print(type(modelo_matematicas))\n",
    "modelo_matematicas"
   ]
  },
  {
   "cell_type": "markdown",
   "metadata": {},
   "source": [
    "Para poner el modelo a disposición, debemos tener en cuenta como vamos a definir la comunicación\n",
    "\n",
    "En nuestro caso vamos a responder a un **POST requests** cuyo contenido va a ser un json como este :\n",
    "\n",
    "**{ \"model\" : \"math\",**\n",
    " \n",
    " **\"dummies\": \\[\"1\", \"0\", \"1\", \"0\", \"0\", \"0\", \"0\", \"1\", \"1\", \"0\", \"0\", \"0\", \"1\", \"0\", \"1\", \"0\", \"1\"\\] }**\n",
    " \n",
    " En donde cada posicion de un elemento en el array representa una dummy ordenada.\n",
    "\n",
    "Para poder trabajar con este json debemos parsear el contenido del post requests (o sea el contenido que nos va a solicitar un potencial cliente).\n",
    "\n",
    "Vamos a utilizar la funcionalidad dada por la clase _requests_ de flask para tratar la petición.\n",
    "\n",
    "La clase _requests_ tiene un metodo *get_json* que permite parsear el contenido de un request especificado como json."
   ]
  },
  {
   "cell_type": "code",
   "execution_count": 15,
   "metadata": {},
   "outputs": [],
   "source": [
    "from flask import Flask, jsonify, request\n",
    "app = Flask('Predictor de examenes')\n",
    "#aclaramos la ruta del recurso y el tipo: (podriamos poner /modelos/listener)\n",
    "@app.route('/',methods=['POST'])\n",
    "#solo con esta linea, ya tenemos un recurso recibiendo requests en \"127.0.0.1/\".\n",
    "\n",
    "#defino la funcion que manejarara el request\n",
    "def predict():\n",
    "     # obtengo los datos del request post.\n",
    "    # notar que en este contexto request contiene la informacion \n",
    "    # que viene de la peticion externa (el metodo get_json lo transforma en un diccionario)\n",
    "    data = request.get_json(force=True)\n",
    "    # transformamos el dato del json (un array de string) en un array de enteros de numpy\n",
    "    # para que lo entienda el modelo, notar la forma del array y la transformacion de los tipos de datos\n",
    "    X_para_prediccion = np.array(data['dummies']).reshape(1, -1).astype('int') \n",
    "    # implementamos una logica en donde elegimos un modelo (podrian ser los otros modelos, lect/escritura)\n",
    "    if data['model'] == 'math':\n",
    "        # asignamos el array de numpy que nos devuelve una prediccion\n",
    "        output = modelo_matematicas.predict(X_para_prediccion)\n",
    "         # esta prediccion es un array de un solo elemento\n",
    "        prediccion = output[0]\n",
    "        # Le damos forma de un diccionario para poder hacer el traspaso a json trivialmente\n",
    "        output = {'prediccion': prediccion}\n",
    "        \n",
    "        # en esta linea, transformamos el diccionario en json con jsonify (funcionalidad de flask)\n",
    "        # y respondemos el request con un json mediante este return\n",
    "        # este json es incorporado en el cuerpo de la respuesta\n",
    "        return jsonify(output)\n",
    "\n",
    "    \n",
    "# listo eso es todo!   "
   ]
  },
  {
   "cell_type": "markdown",
   "metadata": {},
   "source": [
    "### En este punto vamos a poner a escuchar al servidor en 127.0.0.1:5000\n",
    "\n",
    "Entre las cosas que vamos a ver por la salida estandar, va a ser la interaccion de nuestro servidor, con las peticiones externas. \n",
    "\n",
    "cuando sea ejecutada la proxima celda, la notebook se va a encontrar en estado de ejecución respondiendo peticiones, en este estado se le puede realizar un requests"
   ]
  },
  {
   "cell_type": "code",
   "execution_count": 75,
   "metadata": {},
   "outputs": [
    {
     "name": "stdout",
     "output_type": "stream",
     "text": [
      " * Serving Flask app \"Ejemplo Bokeh\" (lazy loading)\n",
      " * Environment: production\n",
      "   WARNING: This is a development server. Do not use it in a production deployment.\n",
      "   Use a production WSGI server instead.\n",
      " * Debug mode: off\n"
     ]
    },
    {
     "name": "stderr",
     "output_type": "stream",
     "text": [
      " * Running on http://127.0.0.1:5001/ (Press CTRL+C to quit)\n",
      "127.0.0.1 - - [30/Apr/2020 19:37:09] \"\u001b[31m\u001b[1mPOST / HTTP/1.1\u001b[0m\" 405 -\n",
      "127.0.0.1 - - [30/Apr/2020 19:37:28] \"\u001b[31m\u001b[1mPOST / HTTP/1.1\u001b[0m\" 405 -\n",
      "127.0.0.1 - - [30/Apr/2020 19:37:29] \"\u001b[31m\u001b[1mPOST / HTTP/1.1\u001b[0m\" 405 -\n",
      "127.0.0.1 - - [30/Apr/2020 19:38:18] \"\u001b[31m\u001b[1mPOST / HTTP/1.1\u001b[0m\" 405 -\n"
     ]
    }
   ],
   "source": [
    "# el puerto 5000 es por default\n",
    "app.run(host='127.0.0.1', port=5001)"
   ]
  },
  {
   "cell_type": "code",
   "execution_count": 46,
   "metadata": {},
   "outputs": [],
   "source": []
  },
  {
   "cell_type": "markdown",
   "metadata": {},
   "source": [
    "### Y si quiero usar los otros dos modelos? "
   ]
  },
  {
   "cell_type": "code",
   "execution_count": 76,
   "metadata": {},
   "outputs": [],
   "source": [
    "app = Flask('Predictor de examenes')\n",
    "#aclaramos la ruta del recurso y el tipo: (podriamos poner /modelos/listener)\n",
    "@app.route('/sarasa/',methods=['POST'])\n",
    "#solo conesta linea, ya tenemos un recurso recibiendo requests en \"127.0.0.1/\".\n",
    "#defino la funcion que manejarara el request\n",
    "def predict():\n",
    "    def math(X_para_prediccion):      \n",
    "        with open('math_model.pkl', 'rb') as f_math:\n",
    "            modelo_matematicas = pickle.load(f_math)\n",
    "\n",
    "        output = modelo_matematicas.predict(X_para_prediccion)\n",
    "\n",
    "        # esta prediccion es un array de un solo elemento\n",
    "        prediccion = output[0]\n",
    "\n",
    "        # Le damos forma de un diccionario para poder hacer el traspaso a json trivialmente\n",
    "        output = {'prediccion': prediccion}\n",
    "\n",
    "        # en esta linea, transformamos el diccionario en json con jsonify (funcionalidad de flask)\n",
    "        # y respondemos el request con un json mediante este return\n",
    "        # este json es incorporado en el cuerpo de la respuesta\n",
    "        return jsonify(output)\n",
    "\n",
    "    def read(X_para_prediccion):\n",
    "\n",
    "        with open('read_model.pkl', 'rb') as f_math:\n",
    "            modelo_read = pickle.load(f_math)\n",
    "\n",
    "        output = modelo_read.predict(X_para_prediccion)\n",
    "\n",
    "        # esta prediccion es un array de un solo elemento\n",
    "        prediccion = output[0]\n",
    "\n",
    "        # Le damos forma de un diccionario para poder hacer el traspaso a json trivialmente\n",
    "        output = {'prediccion': prediccion}\n",
    "\n",
    "        # en esta linea, transformamos el diccionario en json con jsonify (funcionalidad de flask)\n",
    "        # y respondemos el request con un json mediante este return\n",
    "        # este json es incorporado en el cuerpo de la respuesta\n",
    "        return jsonify(output)\n",
    "\n",
    "    def write(X_para_prediccion):\n",
    "\n",
    "        with open('write_model.pkl', 'rb') as f_math:\n",
    "            modelo_write = pickle.load(f_math)\n",
    "\n",
    "        output = modelo_write.predict(X_para_prediccion)\n",
    "\n",
    "        # esta prediccion es un array de un solo elemento\n",
    "        prediccion = output[0]\n",
    "\n",
    "        # Le damos forma de un diccionario para poder hacer el traspaso a json trivialmente\n",
    "        output = {'prediccion': prediccion}\n",
    "\n",
    "        # en esta linea, transformamos el diccionario en json con jsonify (funcionalidad de flask)\n",
    "        # y respondemos el request con un json mediante este return\n",
    "        # este json es incorporado en el cuerpo de la respuesta\n",
    "        return jsonify(output)\n",
    "    \n",
    "    mtype = {'math' : math, 'read' : read , 'write' : write }     \n",
    "    # obtengo los datos del request post.\n",
    "    # notar que en este contexto request contiene la informacion \n",
    "    # que viene de la peticion externa (el metodo get_json lo transforma en un diccionario)\n",
    "    data = request.get_json(force=True)\n",
    "\n",
    "    # transformamos el dato del json (un array de string) en un array de enteros de numpy\n",
    "    # para que lo entienda el modelo, notar la forma del array y la transformacion de los tipos de datos\n",
    "    X_para_prediccion = np.array(data['dummies']).reshape(1, -1).astype('int')\n",
    "    \n",
    "    # implementamos una logica en donde elegimos un modelo (podrian ser los otros modelos, lect/escritura)\n",
    "    model=mtype[data['model']]\n",
    "    pred=model(X_para_prediccion)\n",
    "    \n",
    "    return pred\n"
   ]
  },
  {
   "cell_type": "code",
   "execution_count": 78,
   "metadata": {},
   "outputs": [
    {
     "name": "stdout",
     "output_type": "stream",
     "text": [
      " * Serving Flask app \"Predictor de examenes\" (lazy loading)\n",
      " * Environment: production\n",
      "   WARNING: This is a development server. Do not use it in a production deployment.\n",
      "   Use a production WSGI server instead.\n",
      " * Debug mode: off\n"
     ]
    },
    {
     "name": "stderr",
     "output_type": "stream",
     "text": [
      " * Running on http://0.0.0.0:5001/ (Press CTRL+C to quit)\n",
      "181.239.216.57 - - [30/Apr/2020 19:50:46] \"\u001b[37mPOST / HTTP/1.1\u001b[0m\" 200 -\n",
      "181.28.5.218 - - [30/Apr/2020 19:50:55] \"\u001b[37mPOST / HTTP/1.1\u001b[0m\" 200 -\n",
      "181.229.206.84 - - [30/Apr/2020 19:51:00] \"\u001b[37mPOST / HTTP/1.1\u001b[0m\" 200 -\n",
      "181.28.84.59 - - [30/Apr/2020 19:51:08] \"\u001b[37mPOST / HTTP/1.1\u001b[0m\" 200 -\n",
      "181.229.206.84 - - [30/Apr/2020 19:51:17] \"\u001b[37mPOST / HTTP/1.1\u001b[0m\" 200 -\n",
      "186.136.51.36 - - [30/Apr/2020 19:51:25] \"\u001b[37mPOST / HTTP/1.1\u001b[0m\" 200 -\n",
      "190.245.241.24 - - [30/Apr/2020 19:51:40] \"\u001b[37mPOST / HTTP/1.1\u001b[0m\" 200 -\n",
      "181.229.206.84 - - [30/Apr/2020 19:51:52] \"\u001b[37mPOST / HTTP/1.1\u001b[0m\" 200 -\n",
      "181.28.5.218 - - [30/Apr/2020 19:52:12] \"\u001b[37mPOST / HTTP/1.1\u001b[0m\" 200 -\n",
      "190.245.241.24 - - [30/Apr/2020 19:52:13] \"\u001b[37mPOST / HTTP/1.1\u001b[0m\" 200 -\n",
      "190.245.241.24 - - [30/Apr/2020 19:52:15] \"\u001b[37mPOST / HTTP/1.1\u001b[0m\" 200 -\n",
      "181.46.160.39 - - [30/Apr/2020 19:52:18] \"\u001b[37mPOST / HTTP/1.1\u001b[0m\" 200 -\n",
      "181.46.160.39 - - [30/Apr/2020 19:52:22] \"\u001b[37mPOST / HTTP/1.1\u001b[0m\" 200 -\n",
      "181.46.160.39 - - [30/Apr/2020 19:52:25] \"\u001b[37mPOST / HTTP/1.1\u001b[0m\" 200 -\n",
      "181.46.160.39 - - [30/Apr/2020 19:52:29] \"\u001b[37mPOST / HTTP/1.1\u001b[0m\" 200 -\n",
      "181.28.5.218 - - [30/Apr/2020 19:52:34] \"\u001b[37mPOST / HTTP/1.1\u001b[0m\" 200 -\n",
      "181.46.160.39 - - [30/Apr/2020 19:53:04] \"\u001b[37mPOST / HTTP/1.1\u001b[0m\" 200 -\n",
      "186.136.51.36 - - [30/Apr/2020 19:53:08] \"\u001b[37mPOST / HTTP/1.1\u001b[0m\" 200 -\n",
      "201.213.144.179 - - [30/Apr/2020 19:53:10] \"\u001b[31m\u001b[1mGET / HTTP/1.1\u001b[0m\" 405 -\n",
      "201.213.144.179 - - [30/Apr/2020 19:53:11] \"\u001b[33mGET /favicon.ico HTTP/1.1\u001b[0m\" 404 -\n",
      "181.229.206.84 - - [30/Apr/2020 19:53:31] \"\u001b[37mPOST / HTTP/1.1\u001b[0m\" 200 -\n",
      "181.239.216.57 - - [30/Apr/2020 19:56:02] \"\u001b[37mPOST / HTTP/1.1\u001b[0m\" 200 -\n",
      "181.28.5.218 - - [30/Apr/2020 19:57:19] \"\u001b[37mPOST / HTTP/1.1\u001b[0m\" 200 -\n"
     ]
    }
   ],
   "source": [
    "app.run(host='0.0.0.0', port=5001)"
   ]
  },
  {
   "cell_type": "markdown",
   "metadata": {},
   "source": [
    "### server GET"
   ]
  },
  {
   "cell_type": "code",
   "execution_count": 79,
   "metadata": {},
   "outputs": [
    {
     "name": "stdout",
     "output_type": "stream",
     "text": [
      " * Serving Flask app \"Servidor Get\" (lazy loading)\n",
      " * Environment: production\n",
      "   WARNING: This is a development server. Do not use it in a production deployment.\n",
      "   Use a production WSGI server instead.\n",
      " * Debug mode: off\n"
     ]
    },
    {
     "name": "stderr",
     "output_type": "stream",
     "text": [
      " * Running on http://0.0.0.0:5002/ (Press CTRL+C to quit)\n",
      "181.239.216.57 - - [30/Apr/2020 20:00:55] \"\u001b[37mGET /?a=&b=0 HTTP/1.1\u001b[0m\" 200 -\n"
     ]
    },
    {
     "name": "stdout",
     "output_type": "stream",
     "text": [
      "{'a': '', 'b': '0'}\n"
     ]
    },
    {
     "name": "stderr",
     "output_type": "stream",
     "text": [
      "181.239.216.57 - - [30/Apr/2020 20:01:03] \"\u001b[37mGET /?a=45&b=0 HTTP/1.1\u001b[0m\" 200 -\n"
     ]
    },
    {
     "name": "stdout",
     "output_type": "stream",
     "text": [
      "{'a': '45', 'b': '0'}\n"
     ]
    },
    {
     "name": "stderr",
     "output_type": "stream",
     "text": [
      "181.28.5.218 - - [30/Apr/2020 20:02:06] \"\u001b[31m\u001b[1mPOST / HTTP/1.1\u001b[0m\" 405 -\n",
      "181.46.160.39 - - [30/Apr/2020 20:02:15] \"\u001b[37mGET /?a=2&b=0 HTTP/1.1\u001b[0m\" 200 -\n"
     ]
    },
    {
     "name": "stdout",
     "output_type": "stream",
     "text": [
      "{'a': '2', 'b': '0'}\n"
     ]
    },
    {
     "name": "stderr",
     "output_type": "stream",
     "text": [
      "181.46.160.39 - - [30/Apr/2020 20:02:15] \"\u001b[33mGET /favicon.ico HTTP/1.1\u001b[0m\" 404 -\n",
      "181.28.5.218 - - [30/Apr/2020 20:02:26] \"\u001b[37mGET / HTTP/1.1\u001b[0m\" 200 -\n"
     ]
    },
    {
     "name": "stdout",
     "output_type": "stream",
     "text": [
      "{}\n"
     ]
    },
    {
     "name": "stderr",
     "output_type": "stream",
     "text": [
      "181.28.5.218 - - [30/Apr/2020 20:02:26] \"\u001b[33mGET /favicon.ico HTTP/1.1\u001b[0m\" 404 -\n",
      "186.136.51.36 - - [30/Apr/2020 20:02:28] \"\u001b[37mGET /?a=2&b=0 HTTP/1.1\u001b[0m\" 200 -\n"
     ]
    },
    {
     "name": "stdout",
     "output_type": "stream",
     "text": [
      "{'a': '2', 'b': '0'}\n"
     ]
    },
    {
     "name": "stderr",
     "output_type": "stream",
     "text": [
      "186.136.51.36 - - [30/Apr/2020 20:02:28] \"\u001b[33mGET /favicon.ico HTTP/1.1\u001b[0m\" 404 -\n",
      "181.229.206.84 - - [30/Apr/2020 20:02:35] \"\u001b[37mGET /?a=2&b=0&n=100 HTTP/1.1\u001b[0m\" 200 -\n"
     ]
    },
    {
     "name": "stdout",
     "output_type": "stream",
     "text": [
      "{'a': '2', 'b': '0', 'n': '100'}\n"
     ]
    },
    {
     "name": "stderr",
     "output_type": "stream",
     "text": [
      "181.229.206.84 - - [30/Apr/2020 20:02:36] \"\u001b[33mGET /favicon.ico HTTP/1.1\u001b[0m\" 404 -\n",
      "181.229.206.84 - - [30/Apr/2020 20:02:53] \"\u001b[37mGET /?a=2&b=0 HTTP/1.1\u001b[0m\" 200 -\n"
     ]
    },
    {
     "name": "stdout",
     "output_type": "stream",
     "text": [
      "{'a': '2', 'b': '0'}\n"
     ]
    },
    {
     "name": "stderr",
     "output_type": "stream",
     "text": [
      "181.28.5.218 - - [30/Apr/2020 20:03:04] \"\u001b[37mGET /?%7B%22model%22:%20%22math%22,%20%22dummies%22:%20%5B%221%22,%20%220%22,%20%221%22,%20%220%22,%20%220%22,%20%220%22,%20%220%22,%20%221%22,%20%221%22,%20%220%22,%20%220%22,%20%220%22,%20%221%22,%20%220%22,%20%221%22,%20%220%22,%20%221%22%5D%7D HTTP/1.1\u001b[0m\" 200 -\n"
     ]
    },
    {
     "name": "stdout",
     "output_type": "stream",
     "text": [
      "{'{\"model\": \"math\", \"dummies\": [\"1\", \"0\", \"1\", \"0\", \"0\", \"0\", \"0\", \"1\", \"1\", \"0\", \"0\", \"0\", \"1\", \"0\", \"1\", \"0\", \"1\"]}': ''}\n"
     ]
    },
    {
     "name": "stderr",
     "output_type": "stream",
     "text": [
      "181.46.160.39 - - [30/Apr/2020 20:03:20] \"\u001b[37mGET /?a=2&b=0 HTTP/1.1\u001b[0m\" 200 -\n"
     ]
    },
    {
     "name": "stdout",
     "output_type": "stream",
     "text": [
      "{'a': '2', 'b': '0'}\n"
     ]
    },
    {
     "name": "stderr",
     "output_type": "stream",
     "text": [
      "181.46.160.39 - - [30/Apr/2020 20:03:26] \"\u001b[37mGET /?a=23&b=44 HTTP/1.1\u001b[0m\" 200 -\n",
      "181.46.160.39 - - [30/Apr/2020 20:03:26] \"\u001b[33mGET /favicon.ico HTTP/1.1\u001b[0m\" 404 -\n"
     ]
    },
    {
     "name": "stdout",
     "output_type": "stream",
     "text": [
      "{'a': '23', 'b': '44'}\n"
     ]
    },
    {
     "name": "stderr",
     "output_type": "stream",
     "text": [
      "181.28.5.218 - - [30/Apr/2020 20:04:10] \"\u001b[37mGET /?a=hola&b=3 HTTP/1.1\u001b[0m\" 200 -\n"
     ]
    },
    {
     "name": "stdout",
     "output_type": "stream",
     "text": [
      "{'a': 'hola', 'b': '3'}\n"
     ]
    }
   ],
   "source": [
    "app = Flask('Servidor Get')\n",
    "@app.route('/',methods=['GET'])\n",
    "\n",
    "def hola():\n",
    "   \n",
    "    # obtengo los datos del request post.\n",
    "    # notar que en este contexto request contiene la informacion \n",
    "    # que viene de la peticion externa (el metodo get_json lo transforma en un diccionario)\n",
    "    data=request.args.to_dict()\n",
    "    print(data)\n",
    "    return data\n",
    "\n",
    "app.run(host='0.0.0.0',  port=5002 )"
   ]
  },
  {
   "cell_type": "markdown",
   "metadata": {},
   "source": [
    "### un poco mas vistoso"
   ]
  },
  {
   "cell_type": "code",
   "execution_count": 81,
   "metadata": {},
   "outputs": [
    {
     "name": "stdout",
     "output_type": "stream",
     "text": [
      " * Serving Flask app \"Ejemplo Bokeh\" (lazy loading)\n",
      " * Environment: production\n",
      "   WARNING: This is a development server. Do not use it in a production deployment.\n",
      "   Use a production WSGI server instead.\n",
      " * Debug mode: off\n"
     ]
    },
    {
     "name": "stderr",
     "output_type": "stream",
     "text": [
      " * Running on http://0.0.0.0:5002/ (Press CTRL+C to quit)\n",
      "[2020-04-30 20:21:15,687] ERROR in app: Exception on / [GET]\n",
      "Traceback (most recent call last):\n",
      "  File \"C:\\Users\\fernando\\AppData\\Local\\Continuum\\miniconda3\\lib\\site-packages\\flask\\app.py\", line 2447, in wsgi_app\n",
      "    response = self.full_dispatch_request()\n",
      "  File \"C:\\Users\\fernando\\AppData\\Local\\Continuum\\miniconda3\\lib\\site-packages\\flask\\app.py\", line 1952, in full_dispatch_request\n",
      "    rv = self.handle_user_exception(e)\n",
      "  File \"C:\\Users\\fernando\\AppData\\Local\\Continuum\\miniconda3\\lib\\site-packages\\flask\\app.py\", line 1821, in handle_user_exception\n",
      "    reraise(exc_type, exc_value, tb)\n",
      "  File \"C:\\Users\\fernando\\AppData\\Local\\Continuum\\miniconda3\\lib\\site-packages\\flask\\_compat.py\", line 39, in reraise\n",
      "    raise value\n",
      "  File \"C:\\Users\\fernando\\AppData\\Local\\Continuum\\miniconda3\\lib\\site-packages\\flask\\app.py\", line 1950, in full_dispatch_request\n",
      "    rv = self.dispatch_request()\n",
      "  File \"C:\\Users\\fernando\\AppData\\Local\\Continuum\\miniconda3\\lib\\site-packages\\flask\\app.py\", line 1936, in dispatch_request\n",
      "    return self.view_functions[rule.endpoint](**req.view_args)\n",
      "  File \"<ipython-input-81-54f66a42cfc5>\", line 14, in bokeh\n",
      "    a=int(data['a'])\n",
      "KeyError: 'a'\n",
      "181.28.5.218 - - [30/Apr/2020 20:21:15] \"\u001b[35m\u001b[1mGET /?%7B%22a%22:%205,%20%22b%22:%203,%20%22n%22:%203%7D HTTP/1.1\u001b[0m\" 500 -\n",
      "181.229.206.84 - - [30/Apr/2020 20:21:24] \"\u001b[37mGET /?a=2&b=0&n=100 HTTP/1.1\u001b[0m\" 200 -\n",
      "186.136.51.36 - - [30/Apr/2020 20:21:33] \"\u001b[37mGET /?a=2&b=0&n=100 HTTP/1.1\u001b[0m\" 200 -\n",
      "181.229.206.84 - - [30/Apr/2020 20:21:47] \"\u001b[37mGET /?a=4&b=4&n=100 HTTP/1.1\u001b[0m\" 200 -\n",
      "181.28.5.218 - - [30/Apr/2020 20:21:48] \"\u001b[37mGET /?a=2&b=3&n=4 HTTP/1.1\u001b[0m\" 200 -\n",
      "181.239.216.57 - - [30/Apr/2020 20:21:57] \"\u001b[37mGET /?a=5&b=2&n=30 HTTP/1.1\u001b[0m\" 200 -\n",
      "181.46.160.39 - - [30/Apr/2020 20:21:59] \"\u001b[37mGET /?a=2&b=0&n=100 HTTP/1.1\u001b[0m\" 200 -\n",
      "181.46.160.39 - - [30/Apr/2020 20:22:01] \"\u001b[33mGET /favicon.ico HTTP/1.1\u001b[0m\" 404 -\n",
      "[2020-04-30 20:22:08,126] ERROR in app: Exception on / [GET]\n",
      "Traceback (most recent call last):\n",
      "  File \"C:\\Users\\fernando\\AppData\\Local\\Continuum\\miniconda3\\lib\\site-packages\\flask\\app.py\", line 2447, in wsgi_app\n",
      "    response = self.full_dispatch_request()\n",
      "  File \"C:\\Users\\fernando\\AppData\\Local\\Continuum\\miniconda3\\lib\\site-packages\\flask\\app.py\", line 1952, in full_dispatch_request\n",
      "    rv = self.handle_user_exception(e)\n",
      "  File \"C:\\Users\\fernando\\AppData\\Local\\Continuum\\miniconda3\\lib\\site-packages\\flask\\app.py\", line 1821, in handle_user_exception\n",
      "    reraise(exc_type, exc_value, tb)\n",
      "  File \"C:\\Users\\fernando\\AppData\\Local\\Continuum\\miniconda3\\lib\\site-packages\\flask\\_compat.py\", line 39, in reraise\n",
      "    raise value\n",
      "  File \"C:\\Users\\fernando\\AppData\\Local\\Continuum\\miniconda3\\lib\\site-packages\\flask\\app.py\", line 1950, in full_dispatch_request\n",
      "    rv = self.dispatch_request()\n",
      "  File \"C:\\Users\\fernando\\AppData\\Local\\Continuum\\miniconda3\\lib\\site-packages\\flask\\app.py\", line 1936, in dispatch_request\n",
      "    return self.view_functions[rule.endpoint](**req.view_args)\n",
      "  File \"<ipython-input-81-54f66a42cfc5>\", line 14, in bokeh\n",
      "    a=int(data['a'])\n",
      "KeyError: 'a'\n",
      "201.213.144.179 - - [30/Apr/2020 20:22:08] \"\u001b[35m\u001b[1mGET / HTTP/1.1\u001b[0m\" 500 -\n",
      "201.213.144.179 - - [30/Apr/2020 20:22:08] \"\u001b[33mGET /favicon.ico HTTP/1.1\u001b[0m\" 404 -\n",
      "181.46.160.39 - - [30/Apr/2020 20:22:10] \"\u001b[37mGET /?a=2&b=35&n=100 HTTP/1.1\u001b[0m\" 200 -\n",
      "181.46.160.39 - - [30/Apr/2020 20:22:11] \"\u001b[33mGET /favicon.ico HTTP/1.1\u001b[0m\" 404 -\n",
      "181.239.216.57 - - [30/Apr/2020 20:22:13] \"\u001b[37mGET /?a=5&b=2&n=50 HTTP/1.1\u001b[0m\" 200 -\n",
      "181.239.216.57 - - [30/Apr/2020 20:22:18] \"\u001b[37mGET /?a=5&b=2&n=100 HTTP/1.1\u001b[0m\" 200 -\n",
      "181.28.5.218 - - [30/Apr/2020 20:22:18] \"\u001b[37mGET /?a=5&b=2&n=30 HTTP/1.1\u001b[0m\" 200 -\n",
      "186.136.51.36 - - [30/Apr/2020 20:22:26] \"\u001b[37mGET /?a=5&b=2&n=100 HTTP/1.1\u001b[0m\" 200 -\n",
      "181.28.5.218 - - [30/Apr/2020 20:22:26] \"\u001b[37mGET /?a=5&b=2&n=300 HTTP/1.1\u001b[0m\" 200 -\n",
      "181.239.216.57 - - [30/Apr/2020 20:22:26] \"\u001b[37mGET /?a=1&b=2&n=100 HTTP/1.1\u001b[0m\" 200 -\n",
      "181.46.160.39 - - [30/Apr/2020 20:22:26] \"\u001b[37mGET /?a=5&b=35&n=100 HTTP/1.1\u001b[0m\" 200 -\n",
      "181.46.160.39 - - [30/Apr/2020 20:22:28] \"\u001b[33mGET /favicon.ico HTTP/1.1\u001b[0m\" 404 -\n",
      "181.239.216.57 - - [30/Apr/2020 20:22:31] \"\u001b[37mGET /?a=1&b=10&n=100 HTTP/1.1\u001b[0m\" 200 -\n",
      "201.213.144.179 - - [30/Apr/2020 20:22:32] \"\u001b[37mGET /?a=5&b=2&n=100 HTTP/1.1\u001b[0m\" 200 -\n",
      "[2020-04-30 20:22:36,505] ERROR in app: Exception on / [GET]\n",
      "Traceback (most recent call last):\n",
      "  File \"C:\\Users\\fernando\\AppData\\Local\\Continuum\\miniconda3\\lib\\site-packages\\flask\\app.py\", line 2447, in wsgi_app\n",
      "    response = self.full_dispatch_request()\n",
      "  File \"C:\\Users\\fernando\\AppData\\Local\\Continuum\\miniconda3\\lib\\site-packages\\flask\\app.py\", line 1952, in full_dispatch_request\n",
      "    rv = self.handle_user_exception(e)\n",
      "  File \"C:\\Users\\fernando\\AppData\\Local\\Continuum\\miniconda3\\lib\\site-packages\\flask\\app.py\", line 1821, in handle_user_exception\n",
      "    reraise(exc_type, exc_value, tb)\n",
      "  File \"C:\\Users\\fernando\\AppData\\Local\\Continuum\\miniconda3\\lib\\site-packages\\flask\\_compat.py\", line 39, in reraise\n",
      "    raise value\n",
      "  File \"C:\\Users\\fernando\\AppData\\Local\\Continuum\\miniconda3\\lib\\site-packages\\flask\\app.py\", line 1950, in full_dispatch_request\n",
      "    rv = self.dispatch_request()\n",
      "  File \"C:\\Users\\fernando\\AppData\\Local\\Continuum\\miniconda3\\lib\\site-packages\\flask\\app.py\", line 1936, in dispatch_request\n",
      "    return self.view_functions[rule.endpoint](**req.view_args)\n",
      "  File \"<ipython-input-81-54f66a42cfc5>\", line 14, in bokeh\n",
      "    a=int(data['a'])\n",
      "KeyError: 'a'\n",
      "181.46.139.97 - - [30/Apr/2020 20:22:36] \"\u001b[35m\u001b[1mGET / HTTP/1.1\u001b[0m\" 500 -\n",
      "181.46.139.97 - - [30/Apr/2020 20:22:36] \"\u001b[33mGET /favicon.ico HTTP/1.1\u001b[0m\" 404 -\n",
      "181.28.5.218 - - [30/Apr/2020 20:22:36] \"\u001b[37mGET /?a=5&b=2&n=50 HTTP/1.1\u001b[0m\" 200 -\n",
      "181.46.160.39 - - [30/Apr/2020 20:22:38] \"\u001b[37mGET /?a=5&b=15&n=100 HTTP/1.1\u001b[0m\" 200 -\n",
      "181.46.160.39 - - [30/Apr/2020 20:22:40] \"\u001b[33mGET /favicon.ico HTTP/1.1\u001b[0m\" 404 -\n",
      "181.28.5.218 - - [30/Apr/2020 20:22:48] \"\u001b[37mGET /?a=5&b=2&n=80 HTTP/1.1\u001b[0m\" 200 -\n",
      "[2020-04-30 20:22:58,087] ERROR in app: Exception on / [GET]\n",
      "Traceback (most recent call last):\n",
      "  File \"C:\\Users\\fernando\\AppData\\Local\\Continuum\\miniconda3\\lib\\site-packages\\flask\\app.py\", line 2447, in wsgi_app\n",
      "    response = self.full_dispatch_request()\n",
      "  File \"C:\\Users\\fernando\\AppData\\Local\\Continuum\\miniconda3\\lib\\site-packages\\flask\\app.py\", line 1952, in full_dispatch_request\n",
      "    rv = self.handle_user_exception(e)\n",
      "  File \"C:\\Users\\fernando\\AppData\\Local\\Continuum\\miniconda3\\lib\\site-packages\\flask\\app.py\", line 1821, in handle_user_exception\n",
      "    reraise(exc_type, exc_value, tb)\n",
      "  File \"C:\\Users\\fernando\\AppData\\Local\\Continuum\\miniconda3\\lib\\site-packages\\flask\\_compat.py\", line 39, in reraise\n",
      "    raise value\n",
      "  File \"C:\\Users\\fernando\\AppData\\Local\\Continuum\\miniconda3\\lib\\site-packages\\flask\\app.py\", line 1950, in full_dispatch_request\n",
      "    rv = self.dispatch_request()\n",
      "  File \"C:\\Users\\fernando\\AppData\\Local\\Continuum\\miniconda3\\lib\\site-packages\\flask\\app.py\", line 1936, in dispatch_request\n",
      "    return self.view_functions[rule.endpoint](**req.view_args)\n",
      "  File \"<ipython-input-81-54f66a42cfc5>\", line 16, in bokeh\n",
      "    n=int(data['n'])\n",
      "KeyError: 'n'\n",
      "181.229.88.125 - - [30/Apr/2020 20:22:58] \"\u001b[35m\u001b[1mGET /?a=2&b=0 HTTP/1.1\u001b[0m\" 500 -\n",
      "181.46.139.97 - - [30/Apr/2020 20:23:10] \"\u001b[37mGET /?a=1&b=2&n=29 HTTP/1.1\u001b[0m\" 200 -\n",
      "181.229.88.125 - - [30/Apr/2020 20:23:13] \"\u001b[37mGET /?a=2&b=0&n=100 HTTP/1.1\u001b[0m\" 200 -\n",
      "181.229.88.125 - - [30/Apr/2020 20:23:14] \"\u001b[33mGET /favicon.ico HTTP/1.1\u001b[0m\" 404 -\n",
      "181.229.88.125 - - [30/Apr/2020 20:23:30] \"\u001b[37mGET /?a=7&b=5&n=80 HTTP/1.1\u001b[0m\" 200 -\n",
      "181.28.5.218 - - [30/Apr/2020 20:23:43] \"\u001b[37mGET /?a=8&b=2&n=80 HTTP/1.1\u001b[0m\" 200 -\n"
     ]
    }
   ],
   "source": [
    "from bokeh.embed import components\n",
    "from bokeh.plotting import figure\n",
    "from bokeh.resources import INLINE\n",
    "from flask import Flask, jsonify, request, render_template\n",
    "import numpy as np\n",
    "from bokeh.models import Range1d\n",
    "\n",
    "app = Flask('Ejemplo Bokeh')\n",
    "\n",
    "@app.route('/',methods=['GET'])\n",
    "\n",
    "def bokeh():\n",
    "    data=request.args.to_dict()\n",
    "    a=int(data['a'])\n",
    "    b=int(data['b'])\n",
    "    n=int(data['n'])\n",
    "    x=np.linspace(0,10,n)\n",
    "    y=a*np.sin(b*x)\n",
    "    fig = figure(plot_width=1280, plot_height=600)\n",
    "    fig.line(x,y)\n",
    "    left, right, bottom, top = 0, 10, -10, 10\n",
    "    fig.x_range=Range1d(left, right)\n",
    "    fig.y_range=Range1d(bottom, top)\n",
    "\n",
    "    # magia html del bokeh\n",
    "    js_resources = INLINE.render_js()\n",
    "    css_resources = INLINE.render_css()\n",
    "    script, div = components(fig)\n",
    "    html = render_template(\n",
    "        'index.html',\n",
    "        plot_script=script,\n",
    "        plot_div=div,\n",
    "        js_resources=js_resources,\n",
    "        css_resources=css_resources,\n",
    "    )\n",
    "    return html.encode('utf8')\n",
    "\n",
    "app.run(host='0.0.0.0',  port=5002)"
   ]
  },
  {
   "cell_type": "code",
   "execution_count": null,
   "metadata": {},
   "outputs": [],
   "source": []
  }
 ],
 "metadata": {
  "kernelspec": {
   "display_name": "Python 3",
   "language": "python",
   "name": "python3"
  },
  "language_info": {
   "codemirror_mode": {
    "name": "ipython",
    "version": 3
   },
   "file_extension": ".py",
   "mimetype": "text/x-python",
   "name": "python",
   "nbconvert_exporter": "python",
   "pygments_lexer": "ipython3",
   "version": "3.7.4"
  }
 },
 "nbformat": 4,
 "nbformat_minor": 4
}
