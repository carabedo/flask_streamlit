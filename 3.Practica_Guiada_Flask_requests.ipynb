{
 "cells": [
  {
   "cell_type": "markdown",
   "metadata": {},
   "source": [
    "## Testemos nuestro server"
   ]
  },
  {
   "cell_type": "code",
   "execution_count": 67,
   "metadata": {},
   "outputs": [],
   "source": [
    "data = { \"model\" : \"math\",\n",
    "        \"dummies\": ['1', '0', '1', '0', '0', '0', '0', '1', '1', '0', '0', '0', '1', '0', '0', '1', '1'] }"
   ]
  },
  {
   "cell_type": "code",
   "execution_count": 61,
   "metadata": {},
   "outputs": [],
   "source": [
    "import json\n",
    "import requests\n",
    "\n",
    "url = 'http://127.0.0.1:5001/'"
   ]
  },
  {
   "cell_type": "code",
   "execution_count": 68,
   "metadata": {},
   "outputs": [
    {
     "name": "stdout",
     "output_type": "stream",
     "text": [
      "<Response [200]>\n"
     ]
    }
   ],
   "source": [
    "r = requests.post(url, json.dumps(data))\n",
    "print(r)"
   ]
  },
  {
   "cell_type": "code",
   "execution_count": 69,
   "metadata": {},
   "outputs": [
    {
     "name": "stdout",
     "output_type": "stream",
     "text": [
      "{'prediccion': 62.739033014444985}\n"
     ]
    }
   ],
   "source": [
    "data = { \"model\" : \"math\",\n",
    "        \"dummies\": [\"1\", \"0\", \"1\", \"0\", \"0\", \"0\", \"0\", \"1\", \"1\", \"0\", \"0\", \"0\", \"1\", \"0\", \"1\", \"1\", \"1\"] }\n",
    "\n",
    "r = requests.post(url, json.dumps(data))\n",
    "print(r.json())"
   ]
  },
  {
   "cell_type": "code",
   "execution_count": 20,
   "metadata": {},
   "outputs": [
    {
     "data": {
      "text/plain": [
       "'http://127.0.0.1:5001/'"
      ]
     },
     "execution_count": 20,
     "metadata": {},
     "output_type": "execute_result"
    }
   ],
   "source": [
    "r.url"
   ]
  },
  {
   "cell_type": "code",
   "execution_count": 21,
   "metadata": {},
   "outputs": [
    {
     "data": {
      "text/plain": [
       "'{\"model\": \"math\", \"dummies\": [\"1\", \"0\", \"1\", \"0\", \"0\", \"0\", \"0\", \"1\", \"1\", \"0\", \"0\", \"0\", \"1\", \"0\", \"1\", \"1\", \"1\"]}'"
      ]
     },
     "execution_count": 21,
     "metadata": {},
     "output_type": "execute_result"
    }
   ],
   "source": [
    "r.request.body"
   ]
  },
  {
   "cell_type": "code",
   "execution_count": 66,
   "metadata": {},
   "outputs": [
    {
     "name": "stdout",
     "output_type": "stream",
     "text": [
      "{'prediccion': 62.739033014444985}\n"
     ]
    }
   ],
   "source": [
    "data = { \"model\" : \"math\",\n",
    "        \"dummies\": [\"1\", \"0\", \"1\", \"0\", \"0\", \"0\", \"0\", \"1\", \"1\", \"0\", \"0\", \"0\", \"1\", \"0\", \"1\", \"1\", \"1\"] }\n",
    "\n",
    "r = requests.post(url, json.dumps(data))\n",
    "print(r.json())"
   ]
  },
  {
   "cell_type": "markdown",
   "metadata": {},
   "source": [
    "## Testeemos mi server\n",
    "\n"
   ]
  },
  {
   "cell_type": "code",
   "execution_count": 72,
   "metadata": {},
   "outputs": [
    {
     "name": "stdout",
     "output_type": "stream",
     "text": [
      "{'prediccion': 62.739033014444985}\n"
     ]
    }
   ],
   "source": [
    "url_1 = 'http://181.239.216.57:5001/'\n",
    "data = { \"model\" : \"math\",\n",
    "        \"dummies\": [\"1\", \"0\", \"1\", \"0\", \"0\", \"0\", \"0\", \"1\", \"1\", \"0\", \"0\", \"0\", \"1\", \"0\", \"1\", \"1\", \"1\"] }\n",
    "\n",
    "r_1 = requests.post(url_1, json.dumps(data))\n",
    "print(r_1.json())"
   ]
  },
  {
   "cell_type": "code",
   "execution_count": 7,
   "metadata": {},
   "outputs": [],
   "source": []
  },
  {
   "cell_type": "markdown",
   "metadata": {},
   "source": [
    "### Si quiero que alguien teestee mi modelo, sin tener que instalarse nada? \n",
    "\n",
    "Puedwn hacer estos requests desde cualquier cliente RESTful, por ejemplo desde sus navegadores. Pero... los requests GET codificaban los parametros en la URL, los POST no, por eso sin instalar nada solo podemos hacer GET."
   ]
  },
  {
   "cell_type": "code",
   "execution_count": 47,
   "metadata": {},
   "outputs": [],
   "source": [
    "url_2='http://181.239.216.57:5002/?a=&b=0'"
   ]
  },
  {
   "cell_type": "code",
   "execution_count": 51,
   "metadata": {},
   "outputs": [],
   "source": [
    "r_2=requests.get(url_2)"
   ]
  },
  {
   "cell_type": "code",
   "execution_count": 52,
   "metadata": {},
   "outputs": [
    {
     "data": {
      "text/plain": [
       "'http://181.239.216.57:5002/?a=2&b=0'"
      ]
     },
     "execution_count": 52,
     "metadata": {},
     "output_type": "execute_result"
    }
   ],
   "source": [
    "r_2.url"
   ]
  },
  {
   "cell_type": "markdown",
   "metadata": {},
   "source": [
    "http://181.239.216.57:5002/?a=2&b=0"
   ]
  },
  {
   "cell_type": "markdown",
   "metadata": {},
   "source": [
    "### Si quiero agregar una visualizacion mas compleja, tengo que meterme con html...\n",
    "\n",
    "#### un ejmplo simple, con bokeh"
   ]
  },
  {
   "cell_type": "markdown",
   "metadata": {
    "jupyter": {
     "source_hidden": true
    }
   },
   "source": [
    "\n",
    "```python\n",
    "from bokeh.embed import components\n",
    "from bokeh.plotting import figure\n",
    "from bokeh.resources import INLINE\n",
    "from flask import Flask, jsonify, request, render_template\n",
    "import numpy as np\n",
    "from bokeh.models import Range1d\n",
    "app = Flask('Ejemplo Bokeh')\n",
    "\n",
    "@app.route('/',methods=['GET'])\n",
    "\n",
    "def bokeh():\n",
    "    data=request.args.to_dict()\n",
    "    a=int(data['a'])\n",
    "    b=int(data['b'])\n",
    "    n=int(data['n'])\n",
    "    x=np.linspace(0,10,n)\n",
    "    y=a*np.sin(b*x)\n",
    "    fig = figure(plot_width=1280, plot_height=600)\n",
    "    fig.line(x,y)\n",
    "    left, right, bottom, top = 0, 10, -10, 10\n",
    "    fig.x_range=Range1d(left, right)\n",
    "    fig.y_range=Range1d(bottom, top)\n",
    "\n",
    "    # magia html del bokeh\n",
    "    js_resources = INLINE.render_js()\n",
    "    css_resources = INLINE.render_css()\n",
    "\n",
    "\n",
    "    script, div = components(fig)\n",
    "    html = render_template(\n",
    "        'index.html',\n",
    "        plot_script=script,\n",
    "        plot_div=div,\n",
    "        js_resources=js_resources,\n",
    "        css_resources=css_resources,\n",
    "    )\n",
    "    return html.encode('utf8')\n",
    "\n",
    "app.run(host='127.0.0.1',  port=5002)\n",
    "\n",
    "```"
   ]
  },
  {
   "cell_type": "markdown",
   "metadata": {},
   "source": [
    "### inegresar los parametros de la funcion seno en la URL\n",
    "\n",
    "http://181.239.216.57:5002/?a=2&b=0&n=100"
   ]
  },
  {
   "cell_type": "markdown",
   "metadata": {},
   "source": [
    "### Una alternativa mas practica es STREAMLIT\n",
    "\n",
    "https://www.streamlit.io/\n",
    "\n",
    "Es una libreria que nos ayuda con el diseño HTML y nos permite elegir de una gran libreria de \"widgets\" las herramientas necesarias para crear una APP."
   ]
  },
  {
   "cell_type": "markdown",
   "metadata": {},
   "source": [
    "```python\n",
    "import streamlit as st\n",
    "import pandas as pd \n",
    "import numpy as np\n",
    "import matplotlib.pyplot as plt\n",
    "from bokeh.plotting import figure\n",
    "\n",
    "@st.cache(persist=True)\n",
    "\n",
    "def main():\n",
    "    pass\n",
    "\n",
    "st.latex('f(x) = a\\sin( \\omega  x)')\n",
    "a = st.number_input('Insert a',1)\n",
    "st.write('a = ', a)\n",
    "b = st.number_input('Insert w',1)\n",
    "st.write('w = ', b)\n",
    "n = st.number_input('Insert n',20)\n",
    "st.write('n = ', n)   \n",
    "x=np.linspace(0,10,int(n))\n",
    "y=a*np.sin(b*x)\n",
    "\n",
    "p = figure(\n",
    "     title='plot',\n",
    "     x_axis_label='x',\n",
    "     y_axis_label='y')\n",
    "\n",
    "p.line(x, y, legend='sin(x)', line_width=2)\n",
    "p.circle(x, y, legend='sin(x)', line_width=2)\n",
    "\n",
    "st.bokeh_chart(p, use_container_width=True)\n",
    "\n",
    "if __name__ == \"__main__\":\n",
    "    main()\n",
    "\n",
    "```"
   ]
  },
  {
   "cell_type": "code",
   "execution_count": 55,
   "metadata": {},
   "outputs": [
    {
     "name": "stdout",
     "output_type": "stream",
     "text": [
      "^C\n"
     ]
    }
   ],
   "source": [
    "!streamlit run bokeh_st.py"
   ]
  },
  {
   "cell_type": "markdown",
   "metadata": {},
   "source": [
    "### Adaptemos el primer ejemplo para que un usuario interactue."
   ]
  },
  {
   "cell_type": "code",
   "execution_count": 73,
   "metadata": {},
   "outputs": [
    {
     "name": "stdout",
     "output_type": "stream",
     "text": [
      "^C\n"
     ]
    }
   ],
   "source": [
    "!streamlit run stream_ej.py"
   ]
  }
 ],
 "metadata": {
  "kernelspec": {
   "display_name": "Python 3",
   "language": "python",
   "name": "python3"
  },
  "language_info": {
   "codemirror_mode": {
    "name": "ipython",
    "version": 3
   },
   "file_extension": ".py",
   "mimetype": "text/x-python",
   "name": "python",
   "nbconvert_exporter": "python",
   "pygments_lexer": "ipython3",
   "version": "3.7.4"
  }
 },
 "nbformat": 4,
 "nbformat_minor": 4
}
